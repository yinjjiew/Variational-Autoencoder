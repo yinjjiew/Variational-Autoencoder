{
 "cells": [
  {
   "cell_type": "code",
   "execution_count": 1,
   "id": "2acef4d5-5dcc-4718-a87e-099ace163e00",
   "metadata": {},
   "outputs": [],
   "source": [
    "import torch\n",
    "import numpy as np\n",
    "import matplotlib.pyplot as plt\n",
    "import torchvision\n",
    "from torchvision.utils import save_image\n",
    "from torchvision.transforms import Resize, ToPILImage, ToTensor"
   ]
  },
  {
   "cell_type": "code",
   "execution_count": 2,
   "id": "4b02372b-7f27-4c30-8c6c-87eecb40cc4b",
   "metadata": {},
   "outputs": [],
   "source": [
    "image_size = 32\n",
    "p = 0.95\n",
    "r = 0.9"
   ]
  },
  {
   "cell_type": "code",
   "execution_count": 3,
   "id": "e5dda68f-d0f6-4c6b-ab4b-8a4fa7291ab3",
   "metadata": {},
   "outputs": [
    {
     "name": "stdout",
     "output_type": "stream",
     "text": [
      "0/10000\n",
      "1000/10000\n",
      "2000/10000\n",
      "3000/10000\n",
      "4000/10000\n",
      "5000/10000\n",
      "6000/10000\n",
      "7000/10000\n",
      "8000/10000\n",
      "9000/10000\n"
     ]
    }
   ],
   "source": [
    "n = 10000\n",
    "z = torch.randn((n, 2))\n",
    "threshold_norm = 3\n",
    "\n",
    "for i in range(n):\n",
    "    if i % 1000 == 0:\n",
    "        print(f\"{i}/{n}\")\n",
    "    \n",
    "    z1 = max(min((z[i][0].item()), threshold_norm), -threshold_norm)/threshold_norm/2 + 0.5\n",
    "    z2 = max(min((z[i][1].item()), threshold_norm), -threshold_norm)/threshold_norm/2 + 0.5\n",
    "    \n",
    "    x = np.zeros((image_size, image_size))\n",
    "    left = max(round(15.5 - image_size/2*r*z1), 0)\n",
    "    right = min(round(15.5 + image_size/2*r*z2), image_size-1)\n",
    "    x_index = [i for i in range(left, right+1, 1)]\n",
    "    y_index = [15, 16]\n",
    "    value_p = np.random.binomial(n=1, p=p, size=(len(x_index), len(y_index)))\n",
    "    x[np.ix_(x_index, y_index)] = value_p\n",
    "            \n",
    "    if i == 0:\n",
    "        x_data = torch.tensor(x)[None, :]\n",
    "    else:\n",
    "        x_data = torch.cat((x_data, torch.tensor(x)[None, :]), 0)\n",
    "        \n",
    "x_data = x_data.unsqueeze(1)"
   ]
  },
  {
   "cell_type": "code",
   "execution_count": 4,
   "id": "8b4528c5-3541-4d75-9c5f-ec056cf7fa0d",
   "metadata": {},
   "outputs": [],
   "source": [
    "x = x_data"
   ]
  },
  {
   "cell_type": "code",
   "execution_count": 5,
   "id": "5419b193-c5d1-4c2e-bd2f-e465b278103c",
   "metadata": {},
   "outputs": [],
   "source": [
    "from torch.utils.data import Dataset\n",
    "class CustomDataset(Dataset):\n",
    "    def __init__(self, x, label):\n",
    "        self.x = x\n",
    "        self.label = label\n",
    "        self.n = x.shape[0]\n",
    "\n",
    "    def __len__(self):\n",
    "        return self.n\n",
    "\n",
    "    def __getitem__(self, idx):\n",
    "        return self.x[idx], self.label[idx]"
   ]
  },
  {
   "cell_type": "code",
   "execution_count": 6,
   "id": "674b2f81-7fcf-42a1-9c3a-5eb291dab16c",
   "metadata": {},
   "outputs": [],
   "source": [
    "label = torch.full((n, ), 0)"
   ]
  },
  {
   "cell_type": "code",
   "execution_count": 7,
   "id": "7d8bec6b-6b7e-4575-8917-dc4939ee773c",
   "metadata": {},
   "outputs": [],
   "source": [
    "split_idx = 8000\n",
    "train_x, train_label = x[:split_idx], label[:split_idx]\n",
    "test_x, test_label = x[split_idx:], label[split_idx:]\n",
    "train_dataset = CustomDataset(train_x, train_label)\n",
    "test_dataset = CustomDataset(test_x, test_label)\n",
    "\n",
    "import pickle\n",
    "train_file = './data/model/train_dataset.pkl'\n",
    "test_file = './data/model/test_dataset.pkl'\n",
    "\n",
    "with open(train_file, 'wb') as f:\n",
    "    pickle.dump(train_dataset, f)\n",
    "with open(test_file, 'wb') as f:\n",
    "    pickle.dump(test_dataset, f)"
   ]
  },
  {
   "cell_type": "code",
   "execution_count": 8,
   "id": "12466e73-f550-402a-848b-e722e677a7b2",
   "metadata": {},
   "outputs": [
    {
     "name": "stdout",
     "output_type": "stream",
     "text": [
      "8000 2000\n"
     ]
    }
   ],
   "source": [
    "import pickle\n",
    "train_file = './data/model/train_dataset.pkl'\n",
    "test_file = './data/model/test_dataset.pkl'\n",
    "\n",
    "with open(train_file, 'rb') as f:\n",
    "    train_dataset = pickle.load(f)\n",
    "with open(test_file, 'rb') as f:\n",
    "    test_dataset = pickle.load(f)\n",
    "\n",
    "bs = 100\n",
    "train_loader = torch.utils.data.DataLoader(dataset=train_dataset, batch_size=bs, shuffle=True)\n",
    "test_loader = torch.utils.data.DataLoader(dataset=test_dataset, batch_size=bs, shuffle=False)\n",
    "\n",
    "print(len(train_dataset), len(test_dataset))"
   ]
  },
  {
   "cell_type": "code",
   "execution_count": 9,
   "id": "21cd3748-2839-4392-9510-9936da50b6be",
   "metadata": {},
   "outputs": [
    {
     "name": "stdout",
     "output_type": "stream",
     "text": [
      "start deleting\n",
      "done deleting\n",
      "start saving\n",
      "done saving\n"
     ]
    }
   ],
   "source": [
    "import os\n",
    "from torch.utils.data import DataLoader, Subset\n",
    "from torchvision import datasets, transforms\n",
    "\n",
    "num_samples = 8000\n",
    "indices = np.random.choice(len(train_dataset), num_samples, replace=False)\n",
    "subset_train_dataset = Subset(train_dataset, indices)\n",
    "\n",
    "print(\"start deleting\")\n",
    "import shutil\n",
    "save_dir = './samples/base'\n",
    "if os.path.exists(save_dir) and os.path.isdir(save_dir):\n",
    "    shutil.rmtree(save_dir)\n",
    "else:\n",
    "    print(f\"Directory does not exist.\")\n",
    "print(\"done deleting\")\n",
    "\n",
    "os.makedirs(save_dir, exist_ok=True)\n",
    "\n",
    "print(\"start saving\")\n",
    "def save_images(dataset, save_dir):\n",
    "    for idx, (image, label) in enumerate(dataset):\n",
    "        image = transforms.ToPILImage()(image)\n",
    "        image.save(os.path.join(save_dir, f'image_{idx}.png'))\n",
    "save_images(subset_train_dataset, save_dir)\n",
    "print(\"done saving\")"
   ]
  }
 ],
 "metadata": {
  "kernelspec": {
   "display_name": "Python 3 (ipykernel)",
   "language": "python",
   "name": "python3"
  },
  "language_info": {
   "codemirror_mode": {
    "name": "ipython",
    "version": 3
   },
   "file_extension": ".py",
   "mimetype": "text/x-python",
   "name": "python",
   "nbconvert_exporter": "python",
   "pygments_lexer": "ipython3",
   "version": "3.8.10"
  }
 },
 "nbformat": 4,
 "nbformat_minor": 5
}
