{
 "cells": [
  {
   "cell_type": "code",
   "execution_count": 1,
   "id": "09eda6fb-0398-4a12-b195-c75c5753d201",
   "metadata": {},
   "outputs": [],
   "source": [
    "import torch\n",
    "import torch.nn as nn\n",
    "import torch.nn.functional as F\n",
    "import torchvision\n",
    "from torchvision import datasets, transforms\n",
    "import numpy as np\n",
    "from torchvision.utils import save_image"
   ]
  },
  {
   "cell_type": "code",
   "execution_count": 2,
   "id": "a2b6d511-1a22-4f75-ae17-94fcd8e693f6",
   "metadata": {},
   "outputs": [],
   "source": [
    "class CVAE(nn.Module):\n",
    "\n",
    "    def __init__(self, condi_dim, channels, latent_dim) -> None:\n",
    "        super().__init__()\n",
    "\n",
    "        # encoder\n",
    "        pre_channel = 1\n",
    "        modules = []\n",
    "        img_length = 28\n",
    "        \n",
    "        for i in range(len(channels)-1):\n",
    "            modules.append(\n",
    "                nn.Sequential(\n",
    "                    nn.Conv2d(pre_channel,\n",
    "                              channels[i+1],\n",
    "                              kernel_size=3,\n",
    "                              stride=2,\n",
    "                              padding=1),\n",
    "                    nn.BatchNorm2d(channels[i+1]),\n",
    "                    nn.ReLU()\n",
    "                )\n",
    "            )\n",
    "            pre_channel = channels[i+1]\n",
    "            img_length = (img_length-1)//2+1\n",
    "        \n",
    "        self.encoder_projection = nn.Sequential(\n",
    "                nn.Linear(pre_channel * img_length * img_length + condi_dim, pre_channel * img_length * img_length),\n",
    "                nn.ReLU()\n",
    "        )\n",
    "        \n",
    "        self.encoder = nn.Sequential(*modules)\n",
    "        self.mean_linear = nn.Linear(pre_channel * img_length * img_length,\n",
    "                                     latent_dim)\n",
    "        self.var_linear = nn.Linear(pre_channel * img_length * img_length,\n",
    "                                    latent_dim)\n",
    "        self.latent_dim = latent_dim\n",
    "        \n",
    "        # decoder\n",
    "        modules = []\n",
    "        self.decoder_projection = nn.Linear(\n",
    "            latent_dim + condi_dim, pre_channel * img_length * img_length)\n",
    "        self.decoder_input_chw = (pre_channel, img_length, img_length)\n",
    "\n",
    "        for i in range(len(channels)-1):\n",
    "            if(i == 0):\n",
    "                modules.append(\n",
    "                    nn.Sequential(\n",
    "                        nn.ConvTranspose2d(channels[len(channels)-i-1],\n",
    "                                           channels[len(channels)-i-2],\n",
    "                                           kernel_size=3,\n",
    "                                           stride=2,\n",
    "                                           padding=1,\n",
    "                                           output_padding=0),\n",
    "                        nn.BatchNorm2d(channels[len(channels)-i-2]),\n",
    "                        nn.ReLU()\n",
    "                    )\n",
    "                )\n",
    "            else:\n",
    "                modules.append(\n",
    "                    nn.Sequential(\n",
    "                        nn.ConvTranspose2d(channels[len(channels)-i-1],\n",
    "                                           channels[len(channels)-i-2],\n",
    "                                           kernel_size=3,\n",
    "                                           stride=2,\n",
    "                                           padding=1,\n",
    "                                           output_padding=1),\n",
    "                        nn.BatchNorm2d(channels[len(channels)-i-2]),\n",
    "                        nn.ReLU()\n",
    "                    )\n",
    "                )\n",
    "        self.decoder_layers = nn.Sequential(*modules)\n",
    "        \n",
    "    def decoder(self, z, c):\n",
    "        z = torch.cat([z, c], dim = 1)\n",
    "        z = self.decoder_projection(z)\n",
    "        z = torch.reshape(z, (-1, *self.decoder_input_chw))\n",
    "        decoded = self.decoder_layers(z)\n",
    "        return decoded\n",
    "\n",
    "    def forward(self, x, c):\n",
    "        x = self.encoder(x)\n",
    "        x = torch.flatten(x, 1)\n",
    "        x = torch.cat([x, c], dim = 1)\n",
    "        encoded = self.encoder_projection(x)\n",
    "        mean = self.mean_linear(encoded)\n",
    "        logvar = self.var_linear(encoded)\n",
    "        eps = torch.randn_like(logvar)\n",
    "        std = torch.exp(logvar / 2)\n",
    "        z = eps * std + mean\n",
    "        decoded = self.decoder(z, c)\n",
    "        return decoded, mean, logvar"
   ]
  },
  {
   "cell_type": "code",
   "execution_count": 29,
   "id": "24fc6b77-3902-48fd-80eb-eed8d690dfb2",
   "metadata": {},
   "outputs": [],
   "source": [
    "model_i = \"\"\n",
    "device = 'cpu'\n",
    "model = torch.load('./model1' + str(model_i) + '.pth', map_location=device, weights_only=False)"
   ]
  },
  {
   "cell_type": "code",
   "execution_count": 31,
   "id": "1fd5f6d6-7e10-4740-9ac5-7a2ce9f7415a",
   "metadata": {},
   "outputs": [
    {
     "name": "stdout",
     "output_type": "stream",
     "text": [
      "0 128.77056884765625\n",
      "1 0.4584888219833374\n",
      "2 46.97119903564453\n",
      "3 0.45331287384033203\n",
      "4 0.5370331406593323\n",
      "5 0.5602951645851135\n",
      "6 0.5077562928199768\n",
      "7 0.4779769778251648\n",
      "8 0.6215984225273132\n",
      "9 0.4455057382583618\n",
      "10 0.520866870880127\n",
      "11 19.317182540893555\n",
      "12 0.39344024658203125\n",
      "13 0.46297192573547363\n",
      "14 0.4824103116989136\n",
      "15 0.5133993625640869\n",
      "16 0.45491018891334534\n",
      "17 0.42163193225860596\n",
      "18 0.5148807764053345\n",
      "19 0.41963309049606323\n",
      "20 0.49334728717803955\n",
      "21 0.5261502265930176\n",
      "22 20.828359603881836\n",
      "23 0.44930776953697205\n",
      "24 0.4930216670036316\n",
      "25 0.45483753085136414\n",
      "26 47.7014274597168\n",
      "27 0.4196412265300751\n",
      "28 0.5666756629943848\n",
      "29 0.48159247636795044\n",
      "30 0.4435326159000397\n",
      "31 0.5242775082588196\n",
      "32 0.5265655517578125\n",
      "33 0.5647923946380615\n",
      "34 0.438334584236145\n",
      "35 0.474765807390213\n",
      "36 0.45799362659454346\n",
      "37 52.24833679199219\n",
      "38 0.46859073638916016\n",
      "39 0.5341638922691345\n",
      "40 0.42603036761283875\n",
      "41 0.4484359323978424\n",
      "42 0.47025173902511597\n",
      "43 0.5253233909606934\n",
      "44 0.5021467208862305\n",
      "45 0.552194356918335\n",
      "46 0.49487197399139404\n",
      "47 0.42576682567596436\n",
      "48 0.49657565355300903\n",
      "49 44.08747863769531\n",
      "50 0.4416590631008148\n",
      "51 0.4506520926952362\n",
      "52 0.4664376378059387\n",
      "53 0.49484431743621826\n",
      "54 12.716325759887695\n",
      "55 0.45254385471343994\n",
      "56 0.4543606638908386\n",
      "57 13.852804183959961\n",
      "58 0.48404553532600403\n",
      "59 0.46178025007247925\n",
      "60 0.5301269292831421\n",
      "61 0.561319887638092\n",
      "62 0.5683559775352478\n",
      "63 0.3975875973701477\n",
      "64 0.4299761950969696\n",
      "65 0.44641706347465515\n",
      "66 34.65340805053711\n",
      "67 43.910221099853516\n",
      "68 85.04447937011719\n",
      "69 37.054256439208984\n",
      "70 0.493717759847641\n",
      "71 0.4553546905517578\n",
      "72 0.535796582698822\n",
      "73 0.5883399844169617\n",
      "74 25.937570571899414\n",
      "75 45.827396392822266\n",
      "76 0.5061304569244385\n",
      "77 0.4189315438270569\n",
      "78 0.46742212772369385\n",
      "79 0.42407819628715515\n",
      "80 0.4588766396045685\n",
      "81 0.41144371032714844\n",
      "82 0.5102739334106445\n",
      "83 0.4431604743003845\n",
      "84 0.5530104637145996\n",
      "85 33.92581558227539\n",
      "86 0.5429538488388062\n",
      "87 0.49028146266937256\n",
      "88 0.4879011809825897\n",
      "89 0.45533671975135803\n",
      "90 0.640163779258728\n",
      "91 0.5241619944572449\n",
      "92 150.57827758789062\n",
      "93 112.85372161865234\n",
      "94 0.5324738025665283\n",
      "95 73.24708557128906\n",
      "96 0.46205800771713257\n",
      "97 0.40826740860939026\n",
      "98 0.39556780457496643\n",
      "99 21.532630920410156\n",
      "20\n"
     ]
    }
   ],
   "source": [
    "latend_dim = 100\n",
    "num_class = 10\n",
    "diff_unit = 0.5\n",
    "\n",
    "def one_hot_encode(labels, num_classes):\n",
    "    one_hot_labels = np.zeros((len(labels), num_classes))\n",
    "    one_hot_labels[np.arange(len(labels)), labels] = 1\n",
    "    return one_hot_labels.tolist()\n",
    "\n",
    "effect_num = 0\n",
    "chosen_i_list = []\n",
    "for chosen_i in range(latend_dim):\n",
    "#for chosen_i in chosen_i_list:\n",
    "    for i in range(10):\n",
    "        for k in range(10):\n",
    "            diff = (k-5)*diff_unit\n",
    "            z0 = torch.zeros(latend_dim)\n",
    "            z0[chosen_i] = diff\n",
    "            if(i == 0 and k == 0):\n",
    "                z = z0[None, :]\n",
    "            else:\n",
    "                z = torch.cat((z, z0[None, :]), 0)\n",
    "    model.eval()\n",
    "    with torch.no_grad():\n",
    "        max_diff = -1\n",
    "        c = [i for i in range(10) for _ in range(10)]\n",
    "        c = one_hot_encode(c, num_classes = num_class)\n",
    "        c = torch.tensor(c).to(device)\n",
    "        noise = z\n",
    "        generated_imgs = model.decoder(noise, c)\n",
    "        t = 2\n",
    "        for i in range(10):\n",
    "            if(i == 0):\n",
    "                x = generated_imgs[i*10:(i+1)*10-1]\n",
    "            else:\n",
    "                x = torch.cat((x, generated_imgs[i*10:(i+1)*10-1]), 0)\n",
    "            diff_x = torch.abs((generated_imgs[i*10+t]-generated_imgs[(i+1)*10-1-t])[None, :])\n",
    "            x = torch.cat((x, diff_x), 0)\n",
    "            if(torch.sum(diff_x).item() > max_diff):\n",
    "                max_diff = torch.sum(diff_x).item()\n",
    "        print(chosen_i, max_diff)\n",
    "        if(max_diff >= 5):\n",
    "            effect_num += 1\n",
    "            chosen_i_list.append(chosen_i)\n",
    "        #resized_image = torchvision.transforms.Resize((50, 50))(x)\n",
    "        #save_image(resized_image, f'./pictures2/latend_{chosen_i}.png', nrow=10)\n",
    "print(effect_num)"
   ]
  },
  {
   "cell_type": "code",
   "execution_count": 32,
   "id": "e821bd3d-ee39-4964-b78b-fd4aca424d57",
   "metadata": {},
   "outputs": [],
   "source": [
    "device = 'cuda:0'\n",
    "compare_model = torch.load('./model.pth', map_location=device, weights_only=False)\n",
    "model = model.to(device)\n",
    "base_dim = 20"
   ]
  },
  {
   "cell_type": "code",
   "execution_count": 33,
   "id": "a10cbc68-5692-42c2-85c7-f72f6f308e29",
   "metadata": {},
   "outputs": [],
   "source": [
    "def get_correlation_matrix(X, Y):\n",
    "    combined_matrix = np.hstack((X, Y))\n",
    "    correlation_matrix = np.corrcoef(combined_matrix, rowvar=False)[:X.shape[1], X.shape[1]:]\n",
    "    return correlation_matrix\n",
    "\n",
    "def get_strong_MCC(X, Y):\n",
    "    train_length = int(len(X)/2)\n",
    "    train_X = X[:train_length]\n",
    "    train_Y = Y[:train_length]\n",
    "    test_X = X[train_length:]\n",
    "    test_Y = Y[train_length:]\n",
    "    correlation_matrix = get_correlation_matrix(train_X, train_Y)\n",
    "    row_ind, col_ind = linear_sum_assignment(-np.abs(correlation_matrix))\n",
    "    P_fitted = np.zeros((X.shape[1], X.shape[1]), dtype=int)\n",
    "    P_fitted[col_ind, row_ind] = 1\n",
    "    return np.mean(np.diag(np.abs(get_correlation_matrix(test_X @ P_fitted.T, test_Y))))\n",
    "\n",
    "def get_weak_MCC(X, Y):\n",
    "    train_length = int(len(X)/2)\n",
    "    train_X = X[:train_length]\n",
    "    train_Y = Y[:train_length]\n",
    "    test_X = X[train_length:]\n",
    "    test_Y = Y[train_length:]\n",
    "    cca = CCA(n_components=min(train_X.shape[1], train_Y.shape[1]))\n",
    "    cca.fit(train_X, train_Y)\n",
    "    canonical_coefficients = cca.coef_\n",
    "    return np.mean(np.diag(np.abs(get_correlation_matrix(test_X @ canonical_coefficients.T, test_Y))))"
   ]
  },
  {
   "cell_type": "code",
   "execution_count": 34,
   "id": "7deef374-fb64-477a-b18d-b8f885becffa",
   "metadata": {},
   "outputs": [
    {
     "name": "stderr",
     "output_type": "stream",
     "text": [
      "/hpc_temp/ipykernel_2409217/2973599005.py:33: DeprecationWarning: __array__ implementation doesn't accept a copy keyword, so passing copy=False failed. __array__ must implement 'dtype' and 'copy' keyword arguments.\n",
      "  noise = np.array(noise.to(\"cpu\"))\n",
      "/hpc_temp/ipykernel_2409217/2973599005.py:34: DeprecationWarning: __array__ implementation doesn't accept a copy keyword, so passing copy=False failed. __array__ must implement 'dtype' and 'copy' keyword arguments.\n",
      "  compare_noise = np.array(compare_noise.to(\"cpu\"))\n",
      "/home/yinjie/.local/lib/python3.11/site-packages/sklearn/cross_decomposition/_pls.py:113: ConvergenceWarning: Maximum number of iterations reached\n",
      "  warnings.warn(\"Maximum number of iterations reached\", ConvergenceWarning)\n"
     ]
    },
    {
     "name": "stdout",
     "output_type": "stream",
     "text": [
      "c = 0, strong MCC = 0.5635043596363752, weak MCC = 0.917024842793122\n"
     ]
    },
    {
     "name": "stderr",
     "output_type": "stream",
     "text": [
      "/hpc_temp/ipykernel_2409217/2973599005.py:33: DeprecationWarning: __array__ implementation doesn't accept a copy keyword, so passing copy=False failed. __array__ must implement 'dtype' and 'copy' keyword arguments.\n",
      "  noise = np.array(noise.to(\"cpu\"))\n",
      "/hpc_temp/ipykernel_2409217/2973599005.py:34: DeprecationWarning: __array__ implementation doesn't accept a copy keyword, so passing copy=False failed. __array__ must implement 'dtype' and 'copy' keyword arguments.\n",
      "  compare_noise = np.array(compare_noise.to(\"cpu\"))\n",
      "/home/yinjie/.local/lib/python3.11/site-packages/sklearn/cross_decomposition/_pls.py:113: ConvergenceWarning: Maximum number of iterations reached\n",
      "  warnings.warn(\"Maximum number of iterations reached\", ConvergenceWarning)\n"
     ]
    },
    {
     "name": "stdout",
     "output_type": "stream",
     "text": [
      "c = 1, strong MCC = 0.5463857643114413, weak MCC = 0.8940892614855184\n"
     ]
    },
    {
     "name": "stderr",
     "output_type": "stream",
     "text": [
      "/hpc_temp/ipykernel_2409217/2973599005.py:33: DeprecationWarning: __array__ implementation doesn't accept a copy keyword, so passing copy=False failed. __array__ must implement 'dtype' and 'copy' keyword arguments.\n",
      "  noise = np.array(noise.to(\"cpu\"))\n",
      "/hpc_temp/ipykernel_2409217/2973599005.py:34: DeprecationWarning: __array__ implementation doesn't accept a copy keyword, so passing copy=False failed. __array__ must implement 'dtype' and 'copy' keyword arguments.\n",
      "  compare_noise = np.array(compare_noise.to(\"cpu\"))\n",
      "/home/yinjie/.local/lib/python3.11/site-packages/sklearn/cross_decomposition/_pls.py:113: ConvergenceWarning: Maximum number of iterations reached\n",
      "  warnings.warn(\"Maximum number of iterations reached\", ConvergenceWarning)\n"
     ]
    },
    {
     "name": "stdout",
     "output_type": "stream",
     "text": [
      "c = 2, strong MCC = 0.5571462513277916, weak MCC = 0.9071189715754086\n"
     ]
    },
    {
     "name": "stderr",
     "output_type": "stream",
     "text": [
      "/hpc_temp/ipykernel_2409217/2973599005.py:33: DeprecationWarning: __array__ implementation doesn't accept a copy keyword, so passing copy=False failed. __array__ must implement 'dtype' and 'copy' keyword arguments.\n",
      "  noise = np.array(noise.to(\"cpu\"))\n",
      "/hpc_temp/ipykernel_2409217/2973599005.py:34: DeprecationWarning: __array__ implementation doesn't accept a copy keyword, so passing copy=False failed. __array__ must implement 'dtype' and 'copy' keyword arguments.\n",
      "  compare_noise = np.array(compare_noise.to(\"cpu\"))\n",
      "/home/yinjie/.local/lib/python3.11/site-packages/sklearn/cross_decomposition/_pls.py:113: ConvergenceWarning: Maximum number of iterations reached\n",
      "  warnings.warn(\"Maximum number of iterations reached\", ConvergenceWarning)\n"
     ]
    },
    {
     "name": "stdout",
     "output_type": "stream",
     "text": [
      "c = 3, strong MCC = 0.5539298958646283, weak MCC = 0.9080429439731551\n"
     ]
    },
    {
     "name": "stderr",
     "output_type": "stream",
     "text": [
      "/hpc_temp/ipykernel_2409217/2973599005.py:33: DeprecationWarning: __array__ implementation doesn't accept a copy keyword, so passing copy=False failed. __array__ must implement 'dtype' and 'copy' keyword arguments.\n",
      "  noise = np.array(noise.to(\"cpu\"))\n",
      "/hpc_temp/ipykernel_2409217/2973599005.py:34: DeprecationWarning: __array__ implementation doesn't accept a copy keyword, so passing copy=False failed. __array__ must implement 'dtype' and 'copy' keyword arguments.\n",
      "  compare_noise = np.array(compare_noise.to(\"cpu\"))\n",
      "/home/yinjie/.local/lib/python3.11/site-packages/sklearn/cross_decomposition/_pls.py:113: ConvergenceWarning: Maximum number of iterations reached\n",
      "  warnings.warn(\"Maximum number of iterations reached\", ConvergenceWarning)\n"
     ]
    },
    {
     "name": "stdout",
     "output_type": "stream",
     "text": [
      "c = 4, strong MCC = 0.5546250398107467, weak MCC = 0.90415324064854\n"
     ]
    },
    {
     "name": "stderr",
     "output_type": "stream",
     "text": [
      "/hpc_temp/ipykernel_2409217/2973599005.py:33: DeprecationWarning: __array__ implementation doesn't accept a copy keyword, so passing copy=False failed. __array__ must implement 'dtype' and 'copy' keyword arguments.\n",
      "  noise = np.array(noise.to(\"cpu\"))\n",
      "/hpc_temp/ipykernel_2409217/2973599005.py:34: DeprecationWarning: __array__ implementation doesn't accept a copy keyword, so passing copy=False failed. __array__ must implement 'dtype' and 'copy' keyword arguments.\n",
      "  compare_noise = np.array(compare_noise.to(\"cpu\"))\n",
      "/home/yinjie/.local/lib/python3.11/site-packages/sklearn/cross_decomposition/_pls.py:113: ConvergenceWarning: Maximum number of iterations reached\n",
      "  warnings.warn(\"Maximum number of iterations reached\", ConvergenceWarning)\n"
     ]
    },
    {
     "name": "stdout",
     "output_type": "stream",
     "text": [
      "c = 5, strong MCC = 0.5574132372126517, weak MCC = 0.9112164685520586\n"
     ]
    },
    {
     "name": "stderr",
     "output_type": "stream",
     "text": [
      "/hpc_temp/ipykernel_2409217/2973599005.py:33: DeprecationWarning: __array__ implementation doesn't accept a copy keyword, so passing copy=False failed. __array__ must implement 'dtype' and 'copy' keyword arguments.\n",
      "  noise = np.array(noise.to(\"cpu\"))\n",
      "/hpc_temp/ipykernel_2409217/2973599005.py:34: DeprecationWarning: __array__ implementation doesn't accept a copy keyword, so passing copy=False failed. __array__ must implement 'dtype' and 'copy' keyword arguments.\n",
      "  compare_noise = np.array(compare_noise.to(\"cpu\"))\n",
      "/home/yinjie/.local/lib/python3.11/site-packages/sklearn/cross_decomposition/_pls.py:113: ConvergenceWarning: Maximum number of iterations reached\n",
      "  warnings.warn(\"Maximum number of iterations reached\", ConvergenceWarning)\n"
     ]
    },
    {
     "name": "stdout",
     "output_type": "stream",
     "text": [
      "c = 6, strong MCC = 0.5591608858994486, weak MCC = 0.9057998640128038\n"
     ]
    },
    {
     "name": "stderr",
     "output_type": "stream",
     "text": [
      "/hpc_temp/ipykernel_2409217/2973599005.py:33: DeprecationWarning: __array__ implementation doesn't accept a copy keyword, so passing copy=False failed. __array__ must implement 'dtype' and 'copy' keyword arguments.\n",
      "  noise = np.array(noise.to(\"cpu\"))\n",
      "/hpc_temp/ipykernel_2409217/2973599005.py:34: DeprecationWarning: __array__ implementation doesn't accept a copy keyword, so passing copy=False failed. __array__ must implement 'dtype' and 'copy' keyword arguments.\n",
      "  compare_noise = np.array(compare_noise.to(\"cpu\"))\n",
      "/home/yinjie/.local/lib/python3.11/site-packages/sklearn/cross_decomposition/_pls.py:113: ConvergenceWarning: Maximum number of iterations reached\n",
      "  warnings.warn(\"Maximum number of iterations reached\", ConvergenceWarning)\n"
     ]
    },
    {
     "name": "stdout",
     "output_type": "stream",
     "text": [
      "c = 7, strong MCC = 0.5607725073415694, weak MCC = 0.9166571685801301\n"
     ]
    },
    {
     "name": "stderr",
     "output_type": "stream",
     "text": [
      "/hpc_temp/ipykernel_2409217/2973599005.py:33: DeprecationWarning: __array__ implementation doesn't accept a copy keyword, so passing copy=False failed. __array__ must implement 'dtype' and 'copy' keyword arguments.\n",
      "  noise = np.array(noise.to(\"cpu\"))\n",
      "/hpc_temp/ipykernel_2409217/2973599005.py:34: DeprecationWarning: __array__ implementation doesn't accept a copy keyword, so passing copy=False failed. __array__ must implement 'dtype' and 'copy' keyword arguments.\n",
      "  compare_noise = np.array(compare_noise.to(\"cpu\"))\n",
      "/home/yinjie/.local/lib/python3.11/site-packages/sklearn/cross_decomposition/_pls.py:113: ConvergenceWarning: Maximum number of iterations reached\n",
      "  warnings.warn(\"Maximum number of iterations reached\", ConvergenceWarning)\n"
     ]
    },
    {
     "name": "stdout",
     "output_type": "stream",
     "text": [
      "c = 8, strong MCC = 0.5651033481374456, weak MCC = 0.9168227113041141\n"
     ]
    },
    {
     "name": "stderr",
     "output_type": "stream",
     "text": [
      "/hpc_temp/ipykernel_2409217/2973599005.py:33: DeprecationWarning: __array__ implementation doesn't accept a copy keyword, so passing copy=False failed. __array__ must implement 'dtype' and 'copy' keyword arguments.\n",
      "  noise = np.array(noise.to(\"cpu\"))\n",
      "/hpc_temp/ipykernel_2409217/2973599005.py:34: DeprecationWarning: __array__ implementation doesn't accept a copy keyword, so passing copy=False failed. __array__ must implement 'dtype' and 'copy' keyword arguments.\n",
      "  compare_noise = np.array(compare_noise.to(\"cpu\"))\n",
      "/home/yinjie/.local/lib/python3.11/site-packages/sklearn/cross_decomposition/_pls.py:113: ConvergenceWarning: Maximum number of iterations reached\n",
      "  warnings.warn(\"Maximum number of iterations reached\", ConvergenceWarning)\n"
     ]
    },
    {
     "name": "stdout",
     "output_type": "stream",
     "text": [
      "c = 9, strong MCC = 0.5591768409539432, weak MCC = 0.9223280535852671\n",
      "mean strong MCC = 0.5577218130496042, mean weak MCC = 0.910325352651012\n"
     ]
    }
   ],
   "source": [
    "from sklearn.cross_decomposition import CCA\n",
    "from scipy.optimize import linear_sum_assignment\n",
    "\n",
    "mean_strong_MCC = 0\n",
    "mean_weak_MCC = 0\n",
    "\n",
    "for class_type in range(10):\n",
    "    \n",
    "    # get data\n",
    "    model.eval()\n",
    "    compare_model.eval()\n",
    "    with torch.no_grad():\n",
    "        num = 5000\n",
    "        t = 100\n",
    "        num0 = int(num/t)\n",
    "        for i in range(t):\n",
    "            # get x from z\n",
    "            noise0 = torch.randn(num0, base_dim).to(device)\n",
    "            c = [class_type for _ in range(num0)]\n",
    "            c = one_hot_encode(c, num_classes = num_class)\n",
    "            c = torch.tensor(c).to(device)\n",
    "            x0 = compare_model.decoder(noise0, c)\n",
    "            # get z from x\n",
    "            _, z0, _ = model(x0, c)\n",
    "            compare_noise0 = z0[:, chosen_i_list]\n",
    "            if(i == 0):\n",
    "                noise = noise0\n",
    "                compare_noise = compare_noise0\n",
    "            else:\n",
    "                noise = torch.cat((noise, noise0), 0)\n",
    "                compare_noise = torch.cat((compare_noise, compare_noise0), 0)\n",
    "           \n",
    "    noise = np.array(noise.to(\"cpu\"))\n",
    "    compare_noise = np.array(compare_noise.to(\"cpu\"))\n",
    "    \n",
    "    strong_MCC = get_strong_MCC(noise, compare_noise)\n",
    "    weak_MCC = get_weak_MCC(noise, compare_noise)\n",
    "    print(f\"c = {class_type}, strong MCC = {strong_MCC}, weak MCC = {weak_MCC}\")\n",
    "    \n",
    "    mean_strong_MCC += strong_MCC\n",
    "    mean_weak_MCC += weak_MCC\n",
    "\n",
    "print(f\"mean strong MCC = {mean_strong_MCC/10}, mean weak MCC = {mean_weak_MCC/10}\")"
   ]
  },
  {
   "cell_type": "code",
   "execution_count": null,
   "id": "6bc109ac-2cd0-4994-983f-bd750e85d059",
   "metadata": {},
   "outputs": [],
   "source": []
  }
 ],
 "metadata": {
  "kernelspec": {
   "display_name": "Python (pytorch)",
   "language": "python",
   "name": "pytorch"
  },
  "language_info": {
   "codemirror_mode": {
    "name": "ipython",
    "version": 3
   },
   "file_extension": ".py",
   "mimetype": "text/x-python",
   "name": "python",
   "nbconvert_exporter": "python",
   "pygments_lexer": "ipython3",
   "version": "3.11.5"
  }
 },
 "nbformat": 4,
 "nbformat_minor": 5
}
